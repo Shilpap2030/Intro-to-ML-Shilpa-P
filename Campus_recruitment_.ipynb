{
  "nbformat": 4,
  "nbformat_minor": 0,
  "metadata": {
    "colab": {
      "name": "Campus recruitment .ipynb",
      "provenance": [],
      "collapsed_sections": []
    },
    "kernelspec": {
      "name": "python3",
      "display_name": "Python 3"
    }
  },
  "cells": [
    {
      "cell_type": "markdown",
      "metadata": {
        "id": "b3bX9yp27gEE",
        "colab_type": "text"
      },
      "source": [
        "#**Campus_recruitment classification:**"
      ]
    },
    {
      "cell_type": "markdown",
      "metadata": {
        "id": "xrJKM1EQ8Bd-",
        "colab_type": "text"
      },
      "source": [
        "##**Library importing**"
      ]
    },
    {
      "cell_type": "code",
      "metadata": {
        "id": "CpzAXAcc9s2a",
        "colab_type": "code",
        "colab": {}
      },
      "source": [
        "import pandas as pd\n",
        "import numpy as np\n",
        "import matplotlib as pyplot"
      ],
      "execution_count": 1,
      "outputs": []
    },
    {
      "cell_type": "markdown",
      "metadata": {
        "id": "EITqjqw99uFM",
        "colab_type": "text"
      },
      "source": [
        "##**Uploading the dataset**"
      ]
    },
    {
      "cell_type": "code",
      "metadata": {
        "id": "LBMBFdBL9Nyc",
        "colab_type": "code",
        "colab": {}
      },
      "source": [
        "data =pd. read_csv(\"/content/datasets_596958_1073629_Placement_Data_Full_Class.csv\")"
      ],
      "execution_count": 2,
      "outputs": []
    },
    {
      "cell_type": "code",
      "metadata": {
        "id": "yT_9wQMY_9KR",
        "colab_type": "code",
        "colab": {
          "base_uri": "https://localhost:8080/",
          "height": 402
        },
        "outputId": "5fc81631-1a02-4f24-9cb5-6e1dd4bd822d"
      },
      "source": [
        "data"
      ],
      "execution_count": 3,
      "outputs": [
        {
          "output_type": "execute_result",
          "data": {
            "text/html": [
              "<div>\n",
              "<style scoped>\n",
              "    .dataframe tbody tr th:only-of-type {\n",
              "        vertical-align: middle;\n",
              "    }\n",
              "\n",
              "    .dataframe tbody tr th {\n",
              "        vertical-align: top;\n",
              "    }\n",
              "\n",
              "    .dataframe thead th {\n",
              "        text-align: right;\n",
              "    }\n",
              "</style>\n",
              "<table border=\"1\" class=\"dataframe\">\n",
              "  <thead>\n",
              "    <tr style=\"text-align: right;\">\n",
              "      <th></th>\n",
              "      <th>sl_no</th>\n",
              "      <th>gender</th>\n",
              "      <th>ssc_p</th>\n",
              "      <th>ssc_b</th>\n",
              "      <th>hsc_p</th>\n",
              "      <th>hsc_b</th>\n",
              "      <th>hsc_s</th>\n",
              "      <th>degree_p</th>\n",
              "      <th>degree_t</th>\n",
              "      <th>workex</th>\n",
              "      <th>etest_p</th>\n",
              "      <th>specialisation</th>\n",
              "      <th>mba_p</th>\n",
              "      <th>status</th>\n",
              "      <th>salary</th>\n",
              "    </tr>\n",
              "  </thead>\n",
              "  <tbody>\n",
              "    <tr>\n",
              "      <th>0</th>\n",
              "      <td>1</td>\n",
              "      <td>M</td>\n",
              "      <td>67.00</td>\n",
              "      <td>Others</td>\n",
              "      <td>91.00</td>\n",
              "      <td>Others</td>\n",
              "      <td>Commerce</td>\n",
              "      <td>58.00</td>\n",
              "      <td>Sci&amp;Tech</td>\n",
              "      <td>No</td>\n",
              "      <td>55.0</td>\n",
              "      <td>Mkt&amp;HR</td>\n",
              "      <td>58.80</td>\n",
              "      <td>Placed</td>\n",
              "      <td>270000.0</td>\n",
              "    </tr>\n",
              "    <tr>\n",
              "      <th>1</th>\n",
              "      <td>2</td>\n",
              "      <td>M</td>\n",
              "      <td>79.33</td>\n",
              "      <td>Central</td>\n",
              "      <td>78.33</td>\n",
              "      <td>Others</td>\n",
              "      <td>Science</td>\n",
              "      <td>77.48</td>\n",
              "      <td>Sci&amp;Tech</td>\n",
              "      <td>Yes</td>\n",
              "      <td>86.5</td>\n",
              "      <td>Mkt&amp;Fin</td>\n",
              "      <td>66.28</td>\n",
              "      <td>Placed</td>\n",
              "      <td>200000.0</td>\n",
              "    </tr>\n",
              "    <tr>\n",
              "      <th>2</th>\n",
              "      <td>3</td>\n",
              "      <td>M</td>\n",
              "      <td>65.00</td>\n",
              "      <td>Central</td>\n",
              "      <td>68.00</td>\n",
              "      <td>Central</td>\n",
              "      <td>Arts</td>\n",
              "      <td>64.00</td>\n",
              "      <td>Comm&amp;Mgmt</td>\n",
              "      <td>No</td>\n",
              "      <td>75.0</td>\n",
              "      <td>Mkt&amp;Fin</td>\n",
              "      <td>57.80</td>\n",
              "      <td>Placed</td>\n",
              "      <td>250000.0</td>\n",
              "    </tr>\n",
              "    <tr>\n",
              "      <th>3</th>\n",
              "      <td>4</td>\n",
              "      <td>M</td>\n",
              "      <td>56.00</td>\n",
              "      <td>Central</td>\n",
              "      <td>52.00</td>\n",
              "      <td>Central</td>\n",
              "      <td>Science</td>\n",
              "      <td>52.00</td>\n",
              "      <td>Sci&amp;Tech</td>\n",
              "      <td>No</td>\n",
              "      <td>66.0</td>\n",
              "      <td>Mkt&amp;HR</td>\n",
              "      <td>59.43</td>\n",
              "      <td>Not Placed</td>\n",
              "      <td>NaN</td>\n",
              "    </tr>\n",
              "    <tr>\n",
              "      <th>4</th>\n",
              "      <td>5</td>\n",
              "      <td>M</td>\n",
              "      <td>85.80</td>\n",
              "      <td>Central</td>\n",
              "      <td>73.60</td>\n",
              "      <td>Central</td>\n",
              "      <td>Commerce</td>\n",
              "      <td>73.30</td>\n",
              "      <td>Comm&amp;Mgmt</td>\n",
              "      <td>No</td>\n",
              "      <td>96.8</td>\n",
              "      <td>Mkt&amp;Fin</td>\n",
              "      <td>55.50</td>\n",
              "      <td>Placed</td>\n",
              "      <td>425000.0</td>\n",
              "    </tr>\n",
              "    <tr>\n",
              "      <th>...</th>\n",
              "      <td>...</td>\n",
              "      <td>...</td>\n",
              "      <td>...</td>\n",
              "      <td>...</td>\n",
              "      <td>...</td>\n",
              "      <td>...</td>\n",
              "      <td>...</td>\n",
              "      <td>...</td>\n",
              "      <td>...</td>\n",
              "      <td>...</td>\n",
              "      <td>...</td>\n",
              "      <td>...</td>\n",
              "      <td>...</td>\n",
              "      <td>...</td>\n",
              "      <td>...</td>\n",
              "    </tr>\n",
              "    <tr>\n",
              "      <th>210</th>\n",
              "      <td>211</td>\n",
              "      <td>M</td>\n",
              "      <td>80.60</td>\n",
              "      <td>Others</td>\n",
              "      <td>82.00</td>\n",
              "      <td>Others</td>\n",
              "      <td>Commerce</td>\n",
              "      <td>77.60</td>\n",
              "      <td>Comm&amp;Mgmt</td>\n",
              "      <td>No</td>\n",
              "      <td>91.0</td>\n",
              "      <td>Mkt&amp;Fin</td>\n",
              "      <td>74.49</td>\n",
              "      <td>Placed</td>\n",
              "      <td>400000.0</td>\n",
              "    </tr>\n",
              "    <tr>\n",
              "      <th>211</th>\n",
              "      <td>212</td>\n",
              "      <td>M</td>\n",
              "      <td>58.00</td>\n",
              "      <td>Others</td>\n",
              "      <td>60.00</td>\n",
              "      <td>Others</td>\n",
              "      <td>Science</td>\n",
              "      <td>72.00</td>\n",
              "      <td>Sci&amp;Tech</td>\n",
              "      <td>No</td>\n",
              "      <td>74.0</td>\n",
              "      <td>Mkt&amp;Fin</td>\n",
              "      <td>53.62</td>\n",
              "      <td>Placed</td>\n",
              "      <td>275000.0</td>\n",
              "    </tr>\n",
              "    <tr>\n",
              "      <th>212</th>\n",
              "      <td>213</td>\n",
              "      <td>M</td>\n",
              "      <td>67.00</td>\n",
              "      <td>Others</td>\n",
              "      <td>67.00</td>\n",
              "      <td>Others</td>\n",
              "      <td>Commerce</td>\n",
              "      <td>73.00</td>\n",
              "      <td>Comm&amp;Mgmt</td>\n",
              "      <td>Yes</td>\n",
              "      <td>59.0</td>\n",
              "      <td>Mkt&amp;Fin</td>\n",
              "      <td>69.72</td>\n",
              "      <td>Placed</td>\n",
              "      <td>295000.0</td>\n",
              "    </tr>\n",
              "    <tr>\n",
              "      <th>213</th>\n",
              "      <td>214</td>\n",
              "      <td>F</td>\n",
              "      <td>74.00</td>\n",
              "      <td>Others</td>\n",
              "      <td>66.00</td>\n",
              "      <td>Others</td>\n",
              "      <td>Commerce</td>\n",
              "      <td>58.00</td>\n",
              "      <td>Comm&amp;Mgmt</td>\n",
              "      <td>No</td>\n",
              "      <td>70.0</td>\n",
              "      <td>Mkt&amp;HR</td>\n",
              "      <td>60.23</td>\n",
              "      <td>Placed</td>\n",
              "      <td>204000.0</td>\n",
              "    </tr>\n",
              "    <tr>\n",
              "      <th>214</th>\n",
              "      <td>215</td>\n",
              "      <td>M</td>\n",
              "      <td>62.00</td>\n",
              "      <td>Central</td>\n",
              "      <td>58.00</td>\n",
              "      <td>Others</td>\n",
              "      <td>Science</td>\n",
              "      <td>53.00</td>\n",
              "      <td>Comm&amp;Mgmt</td>\n",
              "      <td>No</td>\n",
              "      <td>89.0</td>\n",
              "      <td>Mkt&amp;HR</td>\n",
              "      <td>60.22</td>\n",
              "      <td>Not Placed</td>\n",
              "      <td>NaN</td>\n",
              "    </tr>\n",
              "  </tbody>\n",
              "</table>\n",
              "<p>215 rows × 15 columns</p>\n",
              "</div>"
            ],
            "text/plain": [
              "     sl_no gender  ssc_p    ssc_b  ...  specialisation  mba_p      status    salary\n",
              "0        1      M  67.00   Others  ...          Mkt&HR  58.80      Placed  270000.0\n",
              "1        2      M  79.33  Central  ...         Mkt&Fin  66.28      Placed  200000.0\n",
              "2        3      M  65.00  Central  ...         Mkt&Fin  57.80      Placed  250000.0\n",
              "3        4      M  56.00  Central  ...          Mkt&HR  59.43  Not Placed       NaN\n",
              "4        5      M  85.80  Central  ...         Mkt&Fin  55.50      Placed  425000.0\n",
              "..     ...    ...    ...      ...  ...             ...    ...         ...       ...\n",
              "210    211      M  80.60   Others  ...         Mkt&Fin  74.49      Placed  400000.0\n",
              "211    212      M  58.00   Others  ...         Mkt&Fin  53.62      Placed  275000.0\n",
              "212    213      M  67.00   Others  ...         Mkt&Fin  69.72      Placed  295000.0\n",
              "213    214      F  74.00   Others  ...          Mkt&HR  60.23      Placed  204000.0\n",
              "214    215      M  62.00  Central  ...          Mkt&HR  60.22  Not Placed       NaN\n",
              "\n",
              "[215 rows x 15 columns]"
            ]
          },
          "metadata": {
            "tags": []
          },
          "execution_count": 3
        }
      ]
    },
    {
      "cell_type": "code",
      "metadata": {
        "id": "kgjDlIi54dE1",
        "colab_type": "code",
        "colab": {
          "base_uri": "https://localhost:8080/",
          "height": 404
        },
        "outputId": "af0d73dc-a81e-40a8-a877-dac1acb61d23"
      },
      "source": [
        "data. info()"
      ],
      "execution_count": 4,
      "outputs": [
        {
          "output_type": "stream",
          "text": [
            "<class 'pandas.core.frame.DataFrame'>\n",
            "RangeIndex: 215 entries, 0 to 214\n",
            "Data columns (total 15 columns):\n",
            " #   Column          Non-Null Count  Dtype  \n",
            "---  ------          --------------  -----  \n",
            " 0   sl_no           215 non-null    int64  \n",
            " 1   gender          215 non-null    object \n",
            " 2   ssc_p           215 non-null    float64\n",
            " 3   ssc_b           215 non-null    object \n",
            " 4   hsc_p           215 non-null    float64\n",
            " 5   hsc_b           215 non-null    object \n",
            " 6   hsc_s           215 non-null    object \n",
            " 7   degree_p        215 non-null    float64\n",
            " 8   degree_t        215 non-null    object \n",
            " 9   workex          215 non-null    object \n",
            " 10  etest_p         215 non-null    float64\n",
            " 11  specialisation  215 non-null    object \n",
            " 12  mba_p           215 non-null    float64\n",
            " 13  status          215 non-null    object \n",
            " 14  salary          148 non-null    float64\n",
            "dtypes: float64(6), int64(1), object(8)\n",
            "memory usage: 25.3+ KB\n"
          ],
          "name": "stdout"
        }
      ]
    },
    {
      "cell_type": "code",
      "metadata": {
        "id": "uHgOjdAvI2fB",
        "colab_type": "code",
        "colab": {
          "base_uri": "https://localhost:8080/",
          "height": 298
        },
        "outputId": "711d8424-656b-487e-ffa4-eafdfb524d81"
      },
      "source": [
        "data. isnull().sum()"
      ],
      "execution_count": 5,
      "outputs": [
        {
          "output_type": "execute_result",
          "data": {
            "text/plain": [
              "sl_no              0\n",
              "gender             0\n",
              "ssc_p              0\n",
              "ssc_b              0\n",
              "hsc_p              0\n",
              "hsc_b              0\n",
              "hsc_s              0\n",
              "degree_p           0\n",
              "degree_t           0\n",
              "workex             0\n",
              "etest_p            0\n",
              "specialisation     0\n",
              "mba_p              0\n",
              "status             0\n",
              "salary            67\n",
              "dtype: int64"
            ]
          },
          "metadata": {
            "tags": []
          },
          "execution_count": 5
        }
      ]
    },
    {
      "cell_type": "markdown",
      "metadata": {
        "id": "NMSz3kVA9RFm",
        "colab_type": "text"
      },
      "source": [
        "###dropping salary ,sl_no ,ssc_b,hsc_b features"
      ]
    },
    {
      "cell_type": "code",
      "metadata": {
        "id": "OXY_xxjfKSlv",
        "colab_type": "code",
        "colab": {}
      },
      "source": [
        "data. drop(['salary','sl_no','ssc_b','hsc_b'],axis=1,inplace=True)"
      ],
      "execution_count": 6,
      "outputs": []
    },
    {
      "cell_type": "code",
      "metadata": {
        "id": "YtXemWdaLD5d",
        "colab_type": "code",
        "colab": {
          "base_uri": "https://localhost:8080/",
          "height": 402
        },
        "outputId": "ed3a2786-bc60-4761-dfe5-161c140dac09"
      },
      "source": [
        "data"
      ],
      "execution_count": 7,
      "outputs": [
        {
          "output_type": "execute_result",
          "data": {
            "text/html": [
              "<div>\n",
              "<style scoped>\n",
              "    .dataframe tbody tr th:only-of-type {\n",
              "        vertical-align: middle;\n",
              "    }\n",
              "\n",
              "    .dataframe tbody tr th {\n",
              "        vertical-align: top;\n",
              "    }\n",
              "\n",
              "    .dataframe thead th {\n",
              "        text-align: right;\n",
              "    }\n",
              "</style>\n",
              "<table border=\"1\" class=\"dataframe\">\n",
              "  <thead>\n",
              "    <tr style=\"text-align: right;\">\n",
              "      <th></th>\n",
              "      <th>gender</th>\n",
              "      <th>ssc_p</th>\n",
              "      <th>hsc_p</th>\n",
              "      <th>hsc_s</th>\n",
              "      <th>degree_p</th>\n",
              "      <th>degree_t</th>\n",
              "      <th>workex</th>\n",
              "      <th>etest_p</th>\n",
              "      <th>specialisation</th>\n",
              "      <th>mba_p</th>\n",
              "      <th>status</th>\n",
              "    </tr>\n",
              "  </thead>\n",
              "  <tbody>\n",
              "    <tr>\n",
              "      <th>0</th>\n",
              "      <td>M</td>\n",
              "      <td>67.00</td>\n",
              "      <td>91.00</td>\n",
              "      <td>Commerce</td>\n",
              "      <td>58.00</td>\n",
              "      <td>Sci&amp;Tech</td>\n",
              "      <td>No</td>\n",
              "      <td>55.0</td>\n",
              "      <td>Mkt&amp;HR</td>\n",
              "      <td>58.80</td>\n",
              "      <td>Placed</td>\n",
              "    </tr>\n",
              "    <tr>\n",
              "      <th>1</th>\n",
              "      <td>M</td>\n",
              "      <td>79.33</td>\n",
              "      <td>78.33</td>\n",
              "      <td>Science</td>\n",
              "      <td>77.48</td>\n",
              "      <td>Sci&amp;Tech</td>\n",
              "      <td>Yes</td>\n",
              "      <td>86.5</td>\n",
              "      <td>Mkt&amp;Fin</td>\n",
              "      <td>66.28</td>\n",
              "      <td>Placed</td>\n",
              "    </tr>\n",
              "    <tr>\n",
              "      <th>2</th>\n",
              "      <td>M</td>\n",
              "      <td>65.00</td>\n",
              "      <td>68.00</td>\n",
              "      <td>Arts</td>\n",
              "      <td>64.00</td>\n",
              "      <td>Comm&amp;Mgmt</td>\n",
              "      <td>No</td>\n",
              "      <td>75.0</td>\n",
              "      <td>Mkt&amp;Fin</td>\n",
              "      <td>57.80</td>\n",
              "      <td>Placed</td>\n",
              "    </tr>\n",
              "    <tr>\n",
              "      <th>3</th>\n",
              "      <td>M</td>\n",
              "      <td>56.00</td>\n",
              "      <td>52.00</td>\n",
              "      <td>Science</td>\n",
              "      <td>52.00</td>\n",
              "      <td>Sci&amp;Tech</td>\n",
              "      <td>No</td>\n",
              "      <td>66.0</td>\n",
              "      <td>Mkt&amp;HR</td>\n",
              "      <td>59.43</td>\n",
              "      <td>Not Placed</td>\n",
              "    </tr>\n",
              "    <tr>\n",
              "      <th>4</th>\n",
              "      <td>M</td>\n",
              "      <td>85.80</td>\n",
              "      <td>73.60</td>\n",
              "      <td>Commerce</td>\n",
              "      <td>73.30</td>\n",
              "      <td>Comm&amp;Mgmt</td>\n",
              "      <td>No</td>\n",
              "      <td>96.8</td>\n",
              "      <td>Mkt&amp;Fin</td>\n",
              "      <td>55.50</td>\n",
              "      <td>Placed</td>\n",
              "    </tr>\n",
              "    <tr>\n",
              "      <th>...</th>\n",
              "      <td>...</td>\n",
              "      <td>...</td>\n",
              "      <td>...</td>\n",
              "      <td>...</td>\n",
              "      <td>...</td>\n",
              "      <td>...</td>\n",
              "      <td>...</td>\n",
              "      <td>...</td>\n",
              "      <td>...</td>\n",
              "      <td>...</td>\n",
              "      <td>...</td>\n",
              "    </tr>\n",
              "    <tr>\n",
              "      <th>210</th>\n",
              "      <td>M</td>\n",
              "      <td>80.60</td>\n",
              "      <td>82.00</td>\n",
              "      <td>Commerce</td>\n",
              "      <td>77.60</td>\n",
              "      <td>Comm&amp;Mgmt</td>\n",
              "      <td>No</td>\n",
              "      <td>91.0</td>\n",
              "      <td>Mkt&amp;Fin</td>\n",
              "      <td>74.49</td>\n",
              "      <td>Placed</td>\n",
              "    </tr>\n",
              "    <tr>\n",
              "      <th>211</th>\n",
              "      <td>M</td>\n",
              "      <td>58.00</td>\n",
              "      <td>60.00</td>\n",
              "      <td>Science</td>\n",
              "      <td>72.00</td>\n",
              "      <td>Sci&amp;Tech</td>\n",
              "      <td>No</td>\n",
              "      <td>74.0</td>\n",
              "      <td>Mkt&amp;Fin</td>\n",
              "      <td>53.62</td>\n",
              "      <td>Placed</td>\n",
              "    </tr>\n",
              "    <tr>\n",
              "      <th>212</th>\n",
              "      <td>M</td>\n",
              "      <td>67.00</td>\n",
              "      <td>67.00</td>\n",
              "      <td>Commerce</td>\n",
              "      <td>73.00</td>\n",
              "      <td>Comm&amp;Mgmt</td>\n",
              "      <td>Yes</td>\n",
              "      <td>59.0</td>\n",
              "      <td>Mkt&amp;Fin</td>\n",
              "      <td>69.72</td>\n",
              "      <td>Placed</td>\n",
              "    </tr>\n",
              "    <tr>\n",
              "      <th>213</th>\n",
              "      <td>F</td>\n",
              "      <td>74.00</td>\n",
              "      <td>66.00</td>\n",
              "      <td>Commerce</td>\n",
              "      <td>58.00</td>\n",
              "      <td>Comm&amp;Mgmt</td>\n",
              "      <td>No</td>\n",
              "      <td>70.0</td>\n",
              "      <td>Mkt&amp;HR</td>\n",
              "      <td>60.23</td>\n",
              "      <td>Placed</td>\n",
              "    </tr>\n",
              "    <tr>\n",
              "      <th>214</th>\n",
              "      <td>M</td>\n",
              "      <td>62.00</td>\n",
              "      <td>58.00</td>\n",
              "      <td>Science</td>\n",
              "      <td>53.00</td>\n",
              "      <td>Comm&amp;Mgmt</td>\n",
              "      <td>No</td>\n",
              "      <td>89.0</td>\n",
              "      <td>Mkt&amp;HR</td>\n",
              "      <td>60.22</td>\n",
              "      <td>Not Placed</td>\n",
              "    </tr>\n",
              "  </tbody>\n",
              "</table>\n",
              "<p>215 rows × 11 columns</p>\n",
              "</div>"
            ],
            "text/plain": [
              "    gender  ssc_p  hsc_p     hsc_s  ...  etest_p specialisation  mba_p      status\n",
              "0        M  67.00  91.00  Commerce  ...     55.0         Mkt&HR  58.80      Placed\n",
              "1        M  79.33  78.33   Science  ...     86.5        Mkt&Fin  66.28      Placed\n",
              "2        M  65.00  68.00      Arts  ...     75.0        Mkt&Fin  57.80      Placed\n",
              "3        M  56.00  52.00   Science  ...     66.0         Mkt&HR  59.43  Not Placed\n",
              "4        M  85.80  73.60  Commerce  ...     96.8        Mkt&Fin  55.50      Placed\n",
              "..     ...    ...    ...       ...  ...      ...            ...    ...         ...\n",
              "210      M  80.60  82.00  Commerce  ...     91.0        Mkt&Fin  74.49      Placed\n",
              "211      M  58.00  60.00   Science  ...     74.0        Mkt&Fin  53.62      Placed\n",
              "212      M  67.00  67.00  Commerce  ...     59.0        Mkt&Fin  69.72      Placed\n",
              "213      F  74.00  66.00  Commerce  ...     70.0         Mkt&HR  60.23      Placed\n",
              "214      M  62.00  58.00   Science  ...     89.0         Mkt&HR  60.22  Not Placed\n",
              "\n",
              "[215 rows x 11 columns]"
            ]
          },
          "metadata": {
            "tags": []
          },
          "execution_count": 7
        }
      ]
    },
    {
      "cell_type": "markdown",
      "metadata": {
        "id": "P9X-b-eo-Ub1",
        "colab_type": "text"
      },
      "source": [
        "##**Seperating Features and Target**"
      ]
    },
    {
      "cell_type": "code",
      "metadata": {
        "id": "FDCEK9xyc8bG",
        "colab_type": "code",
        "colab": {}
      },
      "source": [
        "X=data.iloc[:,:-1]\n",
        "Y=data.iloc[:,-1].values"
      ],
      "execution_count": 8,
      "outputs": []
    },
    {
      "cell_type": "code",
      "metadata": {
        "id": "5qU7u5eh55u4",
        "colab_type": "code",
        "colab": {
          "base_uri": "https://localhost:8080/",
          "height": 402
        },
        "outputId": "9ee8c0a9-d394-494e-edef-bd605d6be7d4"
      },
      "source": [
        "X"
      ],
      "execution_count": 9,
      "outputs": [
        {
          "output_type": "execute_result",
          "data": {
            "text/html": [
              "<div>\n",
              "<style scoped>\n",
              "    .dataframe tbody tr th:only-of-type {\n",
              "        vertical-align: middle;\n",
              "    }\n",
              "\n",
              "    .dataframe tbody tr th {\n",
              "        vertical-align: top;\n",
              "    }\n",
              "\n",
              "    .dataframe thead th {\n",
              "        text-align: right;\n",
              "    }\n",
              "</style>\n",
              "<table border=\"1\" class=\"dataframe\">\n",
              "  <thead>\n",
              "    <tr style=\"text-align: right;\">\n",
              "      <th></th>\n",
              "      <th>gender</th>\n",
              "      <th>ssc_p</th>\n",
              "      <th>hsc_p</th>\n",
              "      <th>hsc_s</th>\n",
              "      <th>degree_p</th>\n",
              "      <th>degree_t</th>\n",
              "      <th>workex</th>\n",
              "      <th>etest_p</th>\n",
              "      <th>specialisation</th>\n",
              "      <th>mba_p</th>\n",
              "    </tr>\n",
              "  </thead>\n",
              "  <tbody>\n",
              "    <tr>\n",
              "      <th>0</th>\n",
              "      <td>M</td>\n",
              "      <td>67.00</td>\n",
              "      <td>91.00</td>\n",
              "      <td>Commerce</td>\n",
              "      <td>58.00</td>\n",
              "      <td>Sci&amp;Tech</td>\n",
              "      <td>No</td>\n",
              "      <td>55.0</td>\n",
              "      <td>Mkt&amp;HR</td>\n",
              "      <td>58.80</td>\n",
              "    </tr>\n",
              "    <tr>\n",
              "      <th>1</th>\n",
              "      <td>M</td>\n",
              "      <td>79.33</td>\n",
              "      <td>78.33</td>\n",
              "      <td>Science</td>\n",
              "      <td>77.48</td>\n",
              "      <td>Sci&amp;Tech</td>\n",
              "      <td>Yes</td>\n",
              "      <td>86.5</td>\n",
              "      <td>Mkt&amp;Fin</td>\n",
              "      <td>66.28</td>\n",
              "    </tr>\n",
              "    <tr>\n",
              "      <th>2</th>\n",
              "      <td>M</td>\n",
              "      <td>65.00</td>\n",
              "      <td>68.00</td>\n",
              "      <td>Arts</td>\n",
              "      <td>64.00</td>\n",
              "      <td>Comm&amp;Mgmt</td>\n",
              "      <td>No</td>\n",
              "      <td>75.0</td>\n",
              "      <td>Mkt&amp;Fin</td>\n",
              "      <td>57.80</td>\n",
              "    </tr>\n",
              "    <tr>\n",
              "      <th>3</th>\n",
              "      <td>M</td>\n",
              "      <td>56.00</td>\n",
              "      <td>52.00</td>\n",
              "      <td>Science</td>\n",
              "      <td>52.00</td>\n",
              "      <td>Sci&amp;Tech</td>\n",
              "      <td>No</td>\n",
              "      <td>66.0</td>\n",
              "      <td>Mkt&amp;HR</td>\n",
              "      <td>59.43</td>\n",
              "    </tr>\n",
              "    <tr>\n",
              "      <th>4</th>\n",
              "      <td>M</td>\n",
              "      <td>85.80</td>\n",
              "      <td>73.60</td>\n",
              "      <td>Commerce</td>\n",
              "      <td>73.30</td>\n",
              "      <td>Comm&amp;Mgmt</td>\n",
              "      <td>No</td>\n",
              "      <td>96.8</td>\n",
              "      <td>Mkt&amp;Fin</td>\n",
              "      <td>55.50</td>\n",
              "    </tr>\n",
              "    <tr>\n",
              "      <th>...</th>\n",
              "      <td>...</td>\n",
              "      <td>...</td>\n",
              "      <td>...</td>\n",
              "      <td>...</td>\n",
              "      <td>...</td>\n",
              "      <td>...</td>\n",
              "      <td>...</td>\n",
              "      <td>...</td>\n",
              "      <td>...</td>\n",
              "      <td>...</td>\n",
              "    </tr>\n",
              "    <tr>\n",
              "      <th>210</th>\n",
              "      <td>M</td>\n",
              "      <td>80.60</td>\n",
              "      <td>82.00</td>\n",
              "      <td>Commerce</td>\n",
              "      <td>77.60</td>\n",
              "      <td>Comm&amp;Mgmt</td>\n",
              "      <td>No</td>\n",
              "      <td>91.0</td>\n",
              "      <td>Mkt&amp;Fin</td>\n",
              "      <td>74.49</td>\n",
              "    </tr>\n",
              "    <tr>\n",
              "      <th>211</th>\n",
              "      <td>M</td>\n",
              "      <td>58.00</td>\n",
              "      <td>60.00</td>\n",
              "      <td>Science</td>\n",
              "      <td>72.00</td>\n",
              "      <td>Sci&amp;Tech</td>\n",
              "      <td>No</td>\n",
              "      <td>74.0</td>\n",
              "      <td>Mkt&amp;Fin</td>\n",
              "      <td>53.62</td>\n",
              "    </tr>\n",
              "    <tr>\n",
              "      <th>212</th>\n",
              "      <td>M</td>\n",
              "      <td>67.00</td>\n",
              "      <td>67.00</td>\n",
              "      <td>Commerce</td>\n",
              "      <td>73.00</td>\n",
              "      <td>Comm&amp;Mgmt</td>\n",
              "      <td>Yes</td>\n",
              "      <td>59.0</td>\n",
              "      <td>Mkt&amp;Fin</td>\n",
              "      <td>69.72</td>\n",
              "    </tr>\n",
              "    <tr>\n",
              "      <th>213</th>\n",
              "      <td>F</td>\n",
              "      <td>74.00</td>\n",
              "      <td>66.00</td>\n",
              "      <td>Commerce</td>\n",
              "      <td>58.00</td>\n",
              "      <td>Comm&amp;Mgmt</td>\n",
              "      <td>No</td>\n",
              "      <td>70.0</td>\n",
              "      <td>Mkt&amp;HR</td>\n",
              "      <td>60.23</td>\n",
              "    </tr>\n",
              "    <tr>\n",
              "      <th>214</th>\n",
              "      <td>M</td>\n",
              "      <td>62.00</td>\n",
              "      <td>58.00</td>\n",
              "      <td>Science</td>\n",
              "      <td>53.00</td>\n",
              "      <td>Comm&amp;Mgmt</td>\n",
              "      <td>No</td>\n",
              "      <td>89.0</td>\n",
              "      <td>Mkt&amp;HR</td>\n",
              "      <td>60.22</td>\n",
              "    </tr>\n",
              "  </tbody>\n",
              "</table>\n",
              "<p>215 rows × 10 columns</p>\n",
              "</div>"
            ],
            "text/plain": [
              "    gender  ssc_p  hsc_p     hsc_s  ...  workex etest_p specialisation  mba_p\n",
              "0        M  67.00  91.00  Commerce  ...      No    55.0         Mkt&HR  58.80\n",
              "1        M  79.33  78.33   Science  ...     Yes    86.5        Mkt&Fin  66.28\n",
              "2        M  65.00  68.00      Arts  ...      No    75.0        Mkt&Fin  57.80\n",
              "3        M  56.00  52.00   Science  ...      No    66.0         Mkt&HR  59.43\n",
              "4        M  85.80  73.60  Commerce  ...      No    96.8        Mkt&Fin  55.50\n",
              "..     ...    ...    ...       ...  ...     ...     ...            ...    ...\n",
              "210      M  80.60  82.00  Commerce  ...      No    91.0        Mkt&Fin  74.49\n",
              "211      M  58.00  60.00   Science  ...      No    74.0        Mkt&Fin  53.62\n",
              "212      M  67.00  67.00  Commerce  ...     Yes    59.0        Mkt&Fin  69.72\n",
              "213      F  74.00  66.00  Commerce  ...      No    70.0         Mkt&HR  60.23\n",
              "214      M  62.00  58.00   Science  ...      No    89.0         Mkt&HR  60.22\n",
              "\n",
              "[215 rows x 10 columns]"
            ]
          },
          "metadata": {
            "tags": []
          },
          "execution_count": 9
        }
      ]
    },
    {
      "cell_type": "markdown",
      "metadata": {
        "id": "mCyvaX6m_Wx5",
        "colab_type": "text"
      },
      "source": [
        "###Converting to an array format"
      ]
    },
    {
      "cell_type": "code",
      "metadata": {
        "id": "r_vOUpv__XpB",
        "colab_type": "code",
        "colab": {}
      },
      "source": [
        "X=X.to_numpy()"
      ],
      "execution_count": 10,
      "outputs": []
    },
    {
      "cell_type": "code",
      "metadata": {
        "id": "y55KTRBO_j4Z",
        "colab_type": "code",
        "colab": {
          "base_uri": "https://localhost:8080/",
          "height": 140
        },
        "outputId": "e9cac833-10f0-41d9-d7c3-d4785a901516"
      },
      "source": [
        "X"
      ],
      "execution_count": 11,
      "outputs": [
        {
          "output_type": "execute_result",
          "data": {
            "text/plain": [
              "array([['M', 67.0, 91.0, ..., 55.0, 'Mkt&HR', 58.8],\n",
              "       ['M', 79.33, 78.33, ..., 86.5, 'Mkt&Fin', 66.28],\n",
              "       ['M', 65.0, 68.0, ..., 75.0, 'Mkt&Fin', 57.8],\n",
              "       ...,\n",
              "       ['M', 67.0, 67.0, ..., 59.0, 'Mkt&Fin', 69.72],\n",
              "       ['F', 74.0, 66.0, ..., 70.0, 'Mkt&HR', 60.23],\n",
              "       ['M', 62.0, 58.0, ..., 89.0, 'Mkt&HR', 60.22]], dtype=object)"
            ]
          },
          "metadata": {
            "tags": []
          },
          "execution_count": 11
        }
      ]
    },
    {
      "cell_type": "code",
      "metadata": {
        "id": "lmV5W1-q5bWo",
        "colab_type": "code",
        "colab": {
          "base_uri": "https://localhost:8080/",
          "height": 686
        },
        "outputId": "4c8de4bb-9c6e-4d69-f34c-c283b7e0b8a4"
      },
      "source": [
        "Y"
      ],
      "execution_count": 12,
      "outputs": [
        {
          "output_type": "execute_result",
          "data": {
            "text/plain": [
              "array(['Placed', 'Placed', 'Placed', 'Not Placed', 'Placed', 'Not Placed',\n",
              "       'Not Placed', 'Placed', 'Placed', 'Not Placed', 'Placed', 'Placed',\n",
              "       'Not Placed', 'Placed', 'Not Placed', 'Placed', 'Placed',\n",
              "       'Not Placed', 'Not Placed', 'Placed', 'Placed', 'Placed', 'Placed',\n",
              "       'Placed', 'Placed', 'Not Placed', 'Placed', 'Placed', 'Placed',\n",
              "       'Not Placed', 'Placed', 'Not Placed', 'Placed', 'Placed',\n",
              "       'Not Placed', 'Placed', 'Not Placed', 'Placed', 'Placed', 'Placed',\n",
              "       'Placed', 'Not Placed', 'Not Placed', 'Placed', 'Placed',\n",
              "       'Not Placed', 'Not Placed', 'Placed', 'Placed', 'Not Placed',\n",
              "       'Placed', 'Not Placed', 'Not Placed', 'Placed', 'Placed', 'Placed',\n",
              "       'Placed', 'Placed', 'Placed', 'Placed', 'Placed', 'Placed',\n",
              "       'Placed', 'Not Placed', 'Placed', 'Not Placed', 'Placed', 'Placed',\n",
              "       'Not Placed', 'Placed', 'Placed', 'Placed', 'Placed', 'Placed',\n",
              "       'Placed', 'Not Placed', 'Placed', 'Placed', 'Placed', 'Not Placed',\n",
              "       'Placed', 'Placed', 'Not Placed', 'Placed', 'Placed', 'Placed',\n",
              "       'Placed', 'Not Placed', 'Placed', 'Placed', 'Placed', 'Not Placed',\n",
              "       'Placed', 'Not Placed', 'Placed', 'Placed', 'Placed', 'Not Placed',\n",
              "       'Placed', 'Not Placed', 'Not Placed', 'Placed', 'Placed', 'Placed',\n",
              "       'Placed', 'Not Placed', 'Not Placed', 'Placed', 'Placed',\n",
              "       'Not Placed', 'Placed', 'Not Placed', 'Placed', 'Placed', 'Placed',\n",
              "       'Placed', 'Placed', 'Placed', 'Placed', 'Placed', 'Not Placed',\n",
              "       'Placed', 'Placed', 'Placed', 'Placed', 'Placed', 'Placed',\n",
              "       'Placed', 'Placed', 'Placed', 'Not Placed', 'Placed', 'Placed',\n",
              "       'Placed', 'Placed', 'Placed', 'Not Placed', 'Placed', 'Placed',\n",
              "       'Placed', 'Placed', 'Not Placed', 'Placed', 'Placed', 'Not Placed',\n",
              "       'Placed', 'Placed', 'Placed', 'Placed', 'Not Placed', 'Placed',\n",
              "       'Placed', 'Placed', 'Placed', 'Placed', 'Not Placed', 'Placed',\n",
              "       'Placed', 'Not Placed', 'Not Placed', 'Placed', 'Not Placed',\n",
              "       'Placed', 'Placed', 'Placed', 'Not Placed', 'Placed', 'Not Placed',\n",
              "       'Not Placed', 'Not Placed', 'Not Placed', 'Placed', 'Placed',\n",
              "       'Not Placed', 'Placed', 'Not Placed', 'Placed', 'Placed', 'Placed',\n",
              "       'Not Placed', 'Placed', 'Not Placed', 'Not Placed', 'Placed',\n",
              "       'Not Placed', 'Placed', 'Not Placed', 'Placed', 'Not Placed',\n",
              "       'Not Placed', 'Not Placed', 'Placed', 'Placed', 'Placed',\n",
              "       'Not Placed', 'Placed', 'Placed', 'Placed', 'Not Placed', 'Placed',\n",
              "       'Placed', 'Not Placed', 'Placed', 'Placed', 'Placed', 'Placed',\n",
              "       'Not Placed', 'Placed', 'Not Placed', 'Placed', 'Placed', 'Placed',\n",
              "       'Placed', 'Placed', 'Not Placed'], dtype=object)"
            ]
          },
          "metadata": {
            "tags": []
          },
          "execution_count": 12
        }
      ]
    },
    {
      "cell_type": "markdown",
      "metadata": {
        "id": "4_gNwQPASSGJ",
        "colab_type": "text"
      },
      "source": [
        "##**One Hot Encoder**"
      ]
    },
    {
      "cell_type": "code",
      "metadata": {
        "id": "xmj5OupESr5h",
        "colab_type": "code",
        "colab": {}
      },
      "source": [
        "from sklearn.compose import ColumnTransformer\n",
        "from sklearn.preprocessing import OneHotEncoder"
      ],
      "execution_count": 13,
      "outputs": []
    },
    {
      "cell_type": "markdown",
      "metadata": {
        "id": "7NBAG686_yIh",
        "colab_type": "text"
      },
      "source": [
        "###Encoding categorical features"
      ]
    },
    {
      "cell_type": "code",
      "metadata": {
        "id": "vCGT9BdZ_8Cl",
        "colab_type": "code",
        "colab": {}
      },
      "source": [
        " ct = ColumnTransformer(transformers=[('encoder', OneHotEncoder(), [0,3,5,6,8])], remainder='passthrough')"
      ],
      "execution_count": 14,
      "outputs": []
    },
    {
      "cell_type": "code",
      "metadata": {
        "id": "0Rcc6NLtAAWw",
        "colab_type": "code",
        "colab": {}
      },
      "source": [
        " X=np.array(ct.fit_transform(X))"
      ],
      "execution_count": 15,
      "outputs": []
    },
    {
      "cell_type": "code",
      "metadata": {
        "id": "OwrToavWDT_s",
        "colab_type": "code",
        "colab": {
          "base_uri": "https://localhost:8080/",
          "height": 140
        },
        "outputId": "e7cc775c-3cf2-4266-dc22-7ebcc3772d17"
      },
      "source": [
        "X"
      ],
      "execution_count": 16,
      "outputs": [
        {
          "output_type": "execute_result",
          "data": {
            "text/plain": [
              "array([[0.0, 1.0, 0.0, ..., 58.0, 55.0, 58.8],\n",
              "       [0.0, 1.0, 0.0, ..., 77.48, 86.5, 66.28],\n",
              "       [0.0, 1.0, 1.0, ..., 64.0, 75.0, 57.8],\n",
              "       ...,\n",
              "       [0.0, 1.0, 0.0, ..., 73.0, 59.0, 69.72],\n",
              "       [1.0, 0.0, 0.0, ..., 58.0, 70.0, 60.23],\n",
              "       [0.0, 1.0, 0.0, ..., 53.0, 89.0, 60.22]], dtype=object)"
            ]
          },
          "metadata": {
            "tags": []
          },
          "execution_count": 16
        }
      ]
    },
    {
      "cell_type": "code",
      "metadata": {
        "id": "IlHolLQhAB2R",
        "colab_type": "code",
        "colab": {}
      },
      "source": [
        " temp=pd.DataFrame(data=X)"
      ],
      "execution_count": 17,
      "outputs": []
    },
    {
      "cell_type": "code",
      "metadata": {
        "id": "8X-UOkBMDJOt",
        "colab_type": "code",
        "colab": {
          "base_uri": "https://localhost:8080/",
          "height": 402
        },
        "outputId": "35fb5a93-ffee-4784-cbc5-4567badfe81d"
      },
      "source": [
        "temp"
      ],
      "execution_count": 18,
      "outputs": [
        {
          "output_type": "execute_result",
          "data": {
            "text/html": [
              "<div>\n",
              "<style scoped>\n",
              "    .dataframe tbody tr th:only-of-type {\n",
              "        vertical-align: middle;\n",
              "    }\n",
              "\n",
              "    .dataframe tbody tr th {\n",
              "        vertical-align: top;\n",
              "    }\n",
              "\n",
              "    .dataframe thead th {\n",
              "        text-align: right;\n",
              "    }\n",
              "</style>\n",
              "<table border=\"1\" class=\"dataframe\">\n",
              "  <thead>\n",
              "    <tr style=\"text-align: right;\">\n",
              "      <th></th>\n",
              "      <th>0</th>\n",
              "      <th>1</th>\n",
              "      <th>2</th>\n",
              "      <th>3</th>\n",
              "      <th>4</th>\n",
              "      <th>5</th>\n",
              "      <th>6</th>\n",
              "      <th>7</th>\n",
              "      <th>8</th>\n",
              "      <th>9</th>\n",
              "      <th>10</th>\n",
              "      <th>11</th>\n",
              "      <th>12</th>\n",
              "      <th>13</th>\n",
              "      <th>14</th>\n",
              "      <th>15</th>\n",
              "      <th>16</th>\n",
              "    </tr>\n",
              "  </thead>\n",
              "  <tbody>\n",
              "    <tr>\n",
              "      <th>0</th>\n",
              "      <td>0</td>\n",
              "      <td>1</td>\n",
              "      <td>0</td>\n",
              "      <td>1</td>\n",
              "      <td>0</td>\n",
              "      <td>0</td>\n",
              "      <td>0</td>\n",
              "      <td>1</td>\n",
              "      <td>1</td>\n",
              "      <td>0</td>\n",
              "      <td>0</td>\n",
              "      <td>1</td>\n",
              "      <td>67</td>\n",
              "      <td>91</td>\n",
              "      <td>58</td>\n",
              "      <td>55</td>\n",
              "      <td>58.8</td>\n",
              "    </tr>\n",
              "    <tr>\n",
              "      <th>1</th>\n",
              "      <td>0</td>\n",
              "      <td>1</td>\n",
              "      <td>0</td>\n",
              "      <td>0</td>\n",
              "      <td>1</td>\n",
              "      <td>0</td>\n",
              "      <td>0</td>\n",
              "      <td>1</td>\n",
              "      <td>0</td>\n",
              "      <td>1</td>\n",
              "      <td>1</td>\n",
              "      <td>0</td>\n",
              "      <td>79.33</td>\n",
              "      <td>78.33</td>\n",
              "      <td>77.48</td>\n",
              "      <td>86.5</td>\n",
              "      <td>66.28</td>\n",
              "    </tr>\n",
              "    <tr>\n",
              "      <th>2</th>\n",
              "      <td>0</td>\n",
              "      <td>1</td>\n",
              "      <td>1</td>\n",
              "      <td>0</td>\n",
              "      <td>0</td>\n",
              "      <td>1</td>\n",
              "      <td>0</td>\n",
              "      <td>0</td>\n",
              "      <td>1</td>\n",
              "      <td>0</td>\n",
              "      <td>1</td>\n",
              "      <td>0</td>\n",
              "      <td>65</td>\n",
              "      <td>68</td>\n",
              "      <td>64</td>\n",
              "      <td>75</td>\n",
              "      <td>57.8</td>\n",
              "    </tr>\n",
              "    <tr>\n",
              "      <th>3</th>\n",
              "      <td>0</td>\n",
              "      <td>1</td>\n",
              "      <td>0</td>\n",
              "      <td>0</td>\n",
              "      <td>1</td>\n",
              "      <td>0</td>\n",
              "      <td>0</td>\n",
              "      <td>1</td>\n",
              "      <td>1</td>\n",
              "      <td>0</td>\n",
              "      <td>0</td>\n",
              "      <td>1</td>\n",
              "      <td>56</td>\n",
              "      <td>52</td>\n",
              "      <td>52</td>\n",
              "      <td>66</td>\n",
              "      <td>59.43</td>\n",
              "    </tr>\n",
              "    <tr>\n",
              "      <th>4</th>\n",
              "      <td>0</td>\n",
              "      <td>1</td>\n",
              "      <td>0</td>\n",
              "      <td>1</td>\n",
              "      <td>0</td>\n",
              "      <td>1</td>\n",
              "      <td>0</td>\n",
              "      <td>0</td>\n",
              "      <td>1</td>\n",
              "      <td>0</td>\n",
              "      <td>1</td>\n",
              "      <td>0</td>\n",
              "      <td>85.8</td>\n",
              "      <td>73.6</td>\n",
              "      <td>73.3</td>\n",
              "      <td>96.8</td>\n",
              "      <td>55.5</td>\n",
              "    </tr>\n",
              "    <tr>\n",
              "      <th>...</th>\n",
              "      <td>...</td>\n",
              "      <td>...</td>\n",
              "      <td>...</td>\n",
              "      <td>...</td>\n",
              "      <td>...</td>\n",
              "      <td>...</td>\n",
              "      <td>...</td>\n",
              "      <td>...</td>\n",
              "      <td>...</td>\n",
              "      <td>...</td>\n",
              "      <td>...</td>\n",
              "      <td>...</td>\n",
              "      <td>...</td>\n",
              "      <td>...</td>\n",
              "      <td>...</td>\n",
              "      <td>...</td>\n",
              "      <td>...</td>\n",
              "    </tr>\n",
              "    <tr>\n",
              "      <th>210</th>\n",
              "      <td>0</td>\n",
              "      <td>1</td>\n",
              "      <td>0</td>\n",
              "      <td>1</td>\n",
              "      <td>0</td>\n",
              "      <td>1</td>\n",
              "      <td>0</td>\n",
              "      <td>0</td>\n",
              "      <td>1</td>\n",
              "      <td>0</td>\n",
              "      <td>1</td>\n",
              "      <td>0</td>\n",
              "      <td>80.6</td>\n",
              "      <td>82</td>\n",
              "      <td>77.6</td>\n",
              "      <td>91</td>\n",
              "      <td>74.49</td>\n",
              "    </tr>\n",
              "    <tr>\n",
              "      <th>211</th>\n",
              "      <td>0</td>\n",
              "      <td>1</td>\n",
              "      <td>0</td>\n",
              "      <td>0</td>\n",
              "      <td>1</td>\n",
              "      <td>0</td>\n",
              "      <td>0</td>\n",
              "      <td>1</td>\n",
              "      <td>1</td>\n",
              "      <td>0</td>\n",
              "      <td>1</td>\n",
              "      <td>0</td>\n",
              "      <td>58</td>\n",
              "      <td>60</td>\n",
              "      <td>72</td>\n",
              "      <td>74</td>\n",
              "      <td>53.62</td>\n",
              "    </tr>\n",
              "    <tr>\n",
              "      <th>212</th>\n",
              "      <td>0</td>\n",
              "      <td>1</td>\n",
              "      <td>0</td>\n",
              "      <td>1</td>\n",
              "      <td>0</td>\n",
              "      <td>1</td>\n",
              "      <td>0</td>\n",
              "      <td>0</td>\n",
              "      <td>0</td>\n",
              "      <td>1</td>\n",
              "      <td>1</td>\n",
              "      <td>0</td>\n",
              "      <td>67</td>\n",
              "      <td>67</td>\n",
              "      <td>73</td>\n",
              "      <td>59</td>\n",
              "      <td>69.72</td>\n",
              "    </tr>\n",
              "    <tr>\n",
              "      <th>213</th>\n",
              "      <td>1</td>\n",
              "      <td>0</td>\n",
              "      <td>0</td>\n",
              "      <td>1</td>\n",
              "      <td>0</td>\n",
              "      <td>1</td>\n",
              "      <td>0</td>\n",
              "      <td>0</td>\n",
              "      <td>1</td>\n",
              "      <td>0</td>\n",
              "      <td>0</td>\n",
              "      <td>1</td>\n",
              "      <td>74</td>\n",
              "      <td>66</td>\n",
              "      <td>58</td>\n",
              "      <td>70</td>\n",
              "      <td>60.23</td>\n",
              "    </tr>\n",
              "    <tr>\n",
              "      <th>214</th>\n",
              "      <td>0</td>\n",
              "      <td>1</td>\n",
              "      <td>0</td>\n",
              "      <td>0</td>\n",
              "      <td>1</td>\n",
              "      <td>1</td>\n",
              "      <td>0</td>\n",
              "      <td>0</td>\n",
              "      <td>1</td>\n",
              "      <td>0</td>\n",
              "      <td>0</td>\n",
              "      <td>1</td>\n",
              "      <td>62</td>\n",
              "      <td>58</td>\n",
              "      <td>53</td>\n",
              "      <td>89</td>\n",
              "      <td>60.22</td>\n",
              "    </tr>\n",
              "  </tbody>\n",
              "</table>\n",
              "<p>215 rows × 17 columns</p>\n",
              "</div>"
            ],
            "text/plain": [
              "     0  1  2  3  4  5  6  7  8  9 10 11     12     13     14    15     16\n",
              "0    0  1  0  1  0  0  0  1  1  0  0  1     67     91     58    55   58.8\n",
              "1    0  1  0  0  1  0  0  1  0  1  1  0  79.33  78.33  77.48  86.5  66.28\n",
              "2    0  1  1  0  0  1  0  0  1  0  1  0     65     68     64    75   57.8\n",
              "3    0  1  0  0  1  0  0  1  1  0  0  1     56     52     52    66  59.43\n",
              "4    0  1  0  1  0  1  0  0  1  0  1  0   85.8   73.6   73.3  96.8   55.5\n",
              "..  .. .. .. .. .. .. .. .. .. .. .. ..    ...    ...    ...   ...    ...\n",
              "210  0  1  0  1  0  1  0  0  1  0  1  0   80.6     82   77.6    91  74.49\n",
              "211  0  1  0  0  1  0  0  1  1  0  1  0     58     60     72    74  53.62\n",
              "212  0  1  0  1  0  1  0  0  0  1  1  0     67     67     73    59  69.72\n",
              "213  1  0  0  1  0  1  0  0  1  0  0  1     74     66     58    70  60.23\n",
              "214  0  1  0  0  1  1  0  0  1  0  0  1     62     58     53    89  60.22\n",
              "\n",
              "[215 rows x 17 columns]"
            ]
          },
          "metadata": {
            "tags": []
          },
          "execution_count": 18
        }
      ]
    },
    {
      "cell_type": "markdown",
      "metadata": {
        "id": "rWQNFlwESN1S",
        "colab_type": "text"
      },
      "source": [
        "##**Label Encoder**"
      ]
    },
    {
      "cell_type": "code",
      "metadata": {
        "id": "znjwumdXH7PL",
        "colab_type": "code",
        "colab": {
          "base_uri": "https://localhost:8080/",
          "height": 228
        },
        "outputId": "1cf6bd1d-e361-4c7e-97a3-396c510d1962"
      },
      "source": [
        "data['status'].unique"
      ],
      "execution_count": 19,
      "outputs": [
        {
          "output_type": "execute_result",
          "data": {
            "text/plain": [
              "<bound method Series.unique of 0          Placed\n",
              "1          Placed\n",
              "2          Placed\n",
              "3      Not Placed\n",
              "4          Placed\n",
              "          ...    \n",
              "210        Placed\n",
              "211        Placed\n",
              "212        Placed\n",
              "213        Placed\n",
              "214    Not Placed\n",
              "Name: status, Length: 215, dtype: object>"
            ]
          },
          "metadata": {
            "tags": []
          },
          "execution_count": 19
        }
      ]
    },
    {
      "cell_type": "code",
      "metadata": {
        "id": "PqwDTObvQlE8",
        "colab_type": "code",
        "colab": {}
      },
      "source": [
        "from sklearn.preprocessing import LabelEncoder"
      ],
      "execution_count": 20,
      "outputs": []
    },
    {
      "cell_type": "markdown",
      "metadata": {
        "id": "25cRofesAQ4i",
        "colab_type": "text"
      },
      "source": [
        "###Encoding target feature"
      ]
    },
    {
      "cell_type": "code",
      "metadata": {
        "id": "IWb_dnK-RuzB",
        "colab_type": "code",
        "colab": {}
      },
      "source": [
        "le = LabelEncoder()"
      ],
      "execution_count": 21,
      "outputs": []
    },
    {
      "cell_type": "code",
      "metadata": {
        "id": "0TE5FR4dLvm3",
        "colab_type": "code",
        "colab": {}
      },
      "source": [
        "Y= le.fit_transform(Y)"
      ],
      "execution_count": 22,
      "outputs": []
    },
    {
      "cell_type": "code",
      "metadata": {
        "id": "oFO0-JdqF6eh",
        "colab_type": "code",
        "colab": {
          "base_uri": "https://localhost:8080/",
          "height": 193
        },
        "outputId": "1ad71fba-de4d-404e-ed09-cf21a46068e5"
      },
      "source": [
        "Y"
      ],
      "execution_count": 23,
      "outputs": [
        {
          "output_type": "execute_result",
          "data": {
            "text/plain": [
              "array([1, 1, 1, 0, 1, 0, 0, 1, 1, 0, 1, 1, 0, 1, 0, 1, 1, 0, 0, 1, 1, 1,\n",
              "       1, 1, 1, 0, 1, 1, 1, 0, 1, 0, 1, 1, 0, 1, 0, 1, 1, 1, 1, 0, 0, 1,\n",
              "       1, 0, 0, 1, 1, 0, 1, 0, 0, 1, 1, 1, 1, 1, 1, 1, 1, 1, 1, 0, 1, 0,\n",
              "       1, 1, 0, 1, 1, 1, 1, 1, 1, 0, 1, 1, 1, 0, 1, 1, 0, 1, 1, 1, 1, 0,\n",
              "       1, 1, 1, 0, 1, 0, 1, 1, 1, 0, 1, 0, 0, 1, 1, 1, 1, 0, 0, 1, 1, 0,\n",
              "       1, 0, 1, 1, 1, 1, 1, 1, 1, 1, 0, 1, 1, 1, 1, 1, 1, 1, 1, 1, 0, 1,\n",
              "       1, 1, 1, 1, 0, 1, 1, 1, 1, 0, 1, 1, 0, 1, 1, 1, 1, 0, 1, 1, 1, 1,\n",
              "       1, 0, 1, 1, 0, 0, 1, 0, 1, 1, 1, 0, 1, 0, 0, 0, 0, 1, 1, 0, 1, 0,\n",
              "       1, 1, 1, 0, 1, 0, 0, 1, 0, 1, 0, 1, 0, 0, 0, 1, 1, 1, 0, 1, 1, 1,\n",
              "       0, 1, 1, 0, 1, 1, 1, 1, 0, 1, 0, 1, 1, 1, 1, 1, 0])"
            ]
          },
          "metadata": {
            "tags": []
          },
          "execution_count": 23
        }
      ]
    },
    {
      "cell_type": "markdown",
      "metadata": {
        "id": "Av0fZM6bAMJk",
        "colab_type": "text"
      },
      "source": [
        "##**Splitting to train and Test data**"
      ]
    },
    {
      "cell_type": "code",
      "metadata": {
        "id": "YKSex2cK7rjr",
        "colab_type": "code",
        "colab": {}
      },
      "source": [
        " from sklearn.model_selection import train_test_split"
      ],
      "execution_count": 24,
      "outputs": []
    },
    {
      "cell_type": "code",
      "metadata": {
        "id": "nMtQJqA2CdGn",
        "colab_type": "code",
        "colab": {}
      },
      "source": [
        " X_train,X_test,Y_train,Y_test=train_test_split(X, Y, test_size=0.2)"
      ],
      "execution_count": 25,
      "outputs": []
    },
    {
      "cell_type": "code",
      "metadata": {
        "id": "q2HppaMYCkjc",
        "colab_type": "code",
        "colab": {
          "base_uri": "https://localhost:8080/",
          "height": 140
        },
        "outputId": "b7e749ae-d352-432d-b36f-137d8524b856"
      },
      "source": [
        "X_train"
      ],
      "execution_count": 26,
      "outputs": [
        {
          "output_type": "execute_result",
          "data": {
            "text/plain": [
              "array([[1.0, 0.0, 0.0, ..., 72.23, 55.53, 68.81],\n",
              "       [0.0, 1.0, 0.0, ..., 60.0, 63.0, 52.38],\n",
              "       [0.0, 1.0, 0.0, ..., 65.0, 86.0, 56.09],\n",
              "       ...,\n",
              "       [0.0, 1.0, 0.0, ..., 60.0, 84.0, 64.15],\n",
              "       [0.0, 1.0, 0.0, ..., 72.0, 74.0, 53.62],\n",
              "       [0.0, 1.0, 0.0, ..., 72.0, 84.0, 58.95]], dtype=object)"
            ]
          },
          "metadata": {
            "tags": []
          },
          "execution_count": 26
        }
      ]
    },
    {
      "cell_type": "code",
      "metadata": {
        "id": "oW3RhqSsCrhp",
        "colab_type": "code",
        "colab": {
          "base_uri": "https://localhost:8080/",
          "height": 158
        },
        "outputId": "6ab6ddb8-ebbb-4d2e-b49b-63fe1cc0c970"
      },
      "source": [
        "Y_train"
      ],
      "execution_count": 27,
      "outputs": [
        {
          "output_type": "execute_result",
          "data": {
            "text/plain": [
              "array([1, 1, 0, 1, 1, 0, 1, 1, 0, 1, 1, 0, 1, 0, 1, 0, 0, 1, 1, 1, 1, 1,\n",
              "       0, 1, 1, 1, 0, 1, 1, 1, 0, 0, 1, 0, 0, 1, 1, 1, 1, 1, 1, 0, 1, 1,\n",
              "       0, 1, 1, 0, 1, 1, 1, 1, 0, 1, 0, 1, 1, 1, 1, 1, 1, 1, 1, 1, 1, 1,\n",
              "       1, 0, 1, 1, 0, 1, 1, 1, 1, 1, 1, 1, 0, 1, 1, 0, 1, 0, 1, 1, 1, 1,\n",
              "       1, 0, 1, 1, 1, 1, 1, 1, 0, 1, 1, 0, 1, 1, 1, 1, 1, 0, 1, 0, 0, 0,\n",
              "       0, 1, 0, 1, 1, 1, 1, 0, 1, 0, 1, 1, 1, 1, 1, 0, 1, 1, 0, 0, 0, 0,\n",
              "       1, 1, 0, 1, 1, 1, 0, 0, 0, 1, 1, 0, 1, 1, 1, 1, 0, 1, 0, 1, 1, 1,\n",
              "       0, 0, 0, 1, 1, 1, 0, 1, 1, 0, 1, 1, 1, 0, 0, 0, 1, 1])"
            ]
          },
          "metadata": {
            "tags": []
          },
          "execution_count": 27
        }
      ]
    },
    {
      "cell_type": "markdown",
      "metadata": {
        "id": "A1dmyP_sUF_G",
        "colab_type": "text"
      },
      "source": [
        "##**Standardisation of data**"
      ]
    },
    {
      "cell_type": "code",
      "metadata": {
        "id": "gK7O-bLBUJdx",
        "colab_type": "code",
        "colab": {}
      },
      "source": [
        "from sklearn.preprocessing import StandardScaler"
      ],
      "execution_count": 28,
      "outputs": []
    },
    {
      "cell_type": "code",
      "metadata": {
        "id": "sze8LkRBUSeF",
        "colab_type": "code",
        "colab": {}
      },
      "source": [
        "scaler = StandardScaler()"
      ],
      "execution_count": 29,
      "outputs": []
    },
    {
      "cell_type": "code",
      "metadata": {
        "id": "UgFqpM12UWKq",
        "colab_type": "code",
        "colab": {}
      },
      "source": [
        "X_train = scaler.fit_transform(X_train)\n",
        "X_test = scaler.transform(X_test)"
      ],
      "execution_count": 30,
      "outputs": []
    },
    {
      "cell_type": "code",
      "metadata": {
        "id": "sZq8tfuPCt7t",
        "colab_type": "code",
        "colab": {
          "base_uri": "https://localhost:8080/",
          "height": 246
        },
        "outputId": "653cd81f-94b3-480f-dc3f-de8b09dcbae2"
      },
      "source": [
        "X_train"
      ],
      "execution_count": 31,
      "outputs": [
        {
          "output_type": "execute_result",
          "data": {
            "text/plain": [
              "array([[ 1.31535498, -1.31535498, -0.20597146, ...,  0.79566888,\n",
              "        -1.28061634,  1.15303029],\n",
              "       [-0.76025104,  0.76025104, -0.20597146, ..., -0.84349831,\n",
              "        -0.7231849 , -1.68939783],\n",
              "       [-0.76025104,  0.76025104, -0.20597146, ..., -0.17335637,\n",
              "         0.99313679, -1.04755922],\n",
              "       ...,\n",
              "       [-0.76025104,  0.76025104, -0.20597146, ..., -0.84349831,\n",
              "         0.84389143,  0.34683948],\n",
              "       [-0.76025104,  0.76025104, -0.20597146, ...,  0.76484235,\n",
              "         0.0976646 , -1.47487495],\n",
              "       [-0.76025104,  0.76025104, -0.20597146, ...,  0.76484235,\n",
              "         0.84389143, -0.55277259]])"
            ]
          },
          "metadata": {
            "tags": []
          },
          "execution_count": 31
        }
      ]
    },
    {
      "cell_type": "code",
      "metadata": {
        "id": "_Ira1r3n6T0b",
        "colab_type": "code",
        "colab": {
          "base_uri": "https://localhost:8080/",
          "height": 1000
        },
        "outputId": "f4593c55-539d-4ef5-ab10-0bb82f5d8218"
      },
      "source": [
        "X_test"
      ],
      "execution_count": 32,
      "outputs": [
        {
          "output_type": "execute_result",
          "data": {
            "text/plain": [
              "array([[-7.60251045e-01,  7.60251045e-01, -2.05971460e-01,\n",
              "         9.43456353e-01, -8.68966076e-01,  7.04025691e-01,\n",
              "        -2.34978135e-01, -6.22171017e-01,  7.50757194e-01,\n",
              "        -7.50757194e-01,  9.21662826e-01, -9.21662826e-01,\n",
              "        -1.46954205e+00, -2.03971987e+00, -1.24558347e+00,\n",
              "        -6.48562219e-01, -1.85028998e+00],\n",
              "       [-7.60251045e-01,  7.60251045e-01, -2.05971460e-01,\n",
              "         9.43456353e-01, -8.68966076e-01,  7.04025691e-01,\n",
              "        -2.34978135e-01, -6.22171017e-01,  7.50757194e-01,\n",
              "        -7.50757194e-01,  9.21662826e-01, -9.21662826e-01,\n",
              "        -4.68849736e-01,  5.42679140e-01, -1.73356369e-01,\n",
              "        -4.24694172e-01, -9.78358293e-01],\n",
              "       [ 1.31535498e+00, -1.31535498e+00, -2.05971460e-01,\n",
              "        -1.05993245e+00,  1.15079291e+00, -1.42040271e+00,\n",
              "        -2.34978135e-01,  1.60727513e+00,  7.50757194e-01,\n",
              "        -7.50757194e-01, -1.08499548e+00,  1.08499548e+00,\n",
              "         1.67954463e-01, -3.79606220e-01, -3.93279811e-02,\n",
              "         1.72287287e-01,  1.01116838e+00],\n",
              "       [-7.60251045e-01,  7.60251045e-01, -2.05971460e-01,\n",
              "         9.43456353e-01, -8.68966076e-01, -1.42040271e+00,\n",
              "        -2.34978135e-01,  1.60727513e+00,  7.50757194e-01,\n",
              "        -7.50757194e-01,  9.21662826e-01, -9.21662826e-01,\n",
              "        -1.19662596e+00,  1.46496450e+00, -4.41413145e-01,\n",
              "        -1.69327977e+00, -4.62811380e-01],\n",
              "       [-7.60251045e-01,  7.60251045e-01, -2.05971460e-01,\n",
              "         9.43456353e-01, -8.68966076e-01,  7.04025691e-01,\n",
              "        -2.34978135e-01, -6.22171017e-01,  7.50757194e-01,\n",
              "        -7.50757194e-01,  9.21662826e-01, -9.21662826e-01,\n",
              "         7.13786634e-01,  3.84968344e-01,  6.30813959e-01,\n",
              "         1.66474093e+00,  8.29515948e-01],\n",
              "       [-7.60251045e-01,  7.60251045e-01, -2.05971460e-01,\n",
              "         9.43456353e-01, -8.68966076e-01,  7.04025691e-01,\n",
              "        -2.34978135e-01, -6.22171017e-01,  7.50757194e-01,\n",
              "        -7.50757194e-01,  9.21662826e-01, -9.21662826e-01,\n",
              "         1.22322999e+00,  1.46496450e+00,  1.51540132e+00,\n",
              "         1.36625020e+00,  2.13568346e+00],\n",
              "       [-7.60251045e-01,  7.60251045e-01, -2.05971460e-01,\n",
              "         9.43456353e-01, -8.68966076e-01,  7.04025691e-01,\n",
              "        -2.34978135e-01, -6.22171017e-01,  7.50757194e-01,\n",
              "        -7.50757194e-01,  9.21662826e-01, -9.21662826e-01,\n",
              "        -3.77877708e-01, -3.79606220e-01,  2.28728795e-01,\n",
              "        -6.48562219e-01,  5.44655559e-02],\n",
              "       [ 1.31535498e+00, -1.31535498e+00, -2.05971460e-01,\n",
              "         9.43456353e-01, -8.68966076e-01,  7.04025691e-01,\n",
              "        -2.34978135e-01, -6.22171017e-01,  7.50757194e-01,\n",
              "        -7.50757194e-01,  9.21662826e-01, -9.21662826e-01,\n",
              "         9.86702720e-01,  1.00382182e+00,  1.83706945e+00,\n",
              "        -9.47052948e-01,  7.91455438e-01],\n",
              "       [-7.60251045e-01,  7.60251045e-01, -2.05971460e-01,\n",
              "         9.43456353e-01, -8.68966076e-01,  7.04025691e-01,\n",
              "        -2.34978135e-01, -6.22171017e-01, -1.33198857e+00,\n",
              "         1.33198857e+00,  9.21662826e-01, -9.21662826e-01,\n",
              "        -1.95933651e-01, -1.21366319e-01,  4.29771377e-01,\n",
              "        -1.24554368e+00, -9.00507249e-01],\n",
              "       [ 1.31535498e+00, -1.31535498e+00,  4.85504156e+00,\n",
              "        -1.05993245e+00, -8.68966076e-01, -1.42040271e+00,\n",
              "         4.25571511e+00, -6.22171017e-01,  7.50757194e-01,\n",
              "        -7.50757194e-01, -1.08499548e+00,  1.08499548e+00,\n",
              "        -1.56051408e+00, -2.68531962e+00, -1.91572541e+00,\n",
              "        -5.73939536e-01, -1.04409917e+00],\n",
              "       [ 1.31535498e+00, -1.31535498e+00, -2.05971460e-01,\n",
              "         9.43456353e-01, -8.68966076e-01,  7.04025691e-01,\n",
              "        -2.34978135e-01, -6.22171017e-01,  7.50757194e-01,\n",
              "        -7.50757194e-01,  9.21662826e-01, -9.21662826e-01,\n",
              "        -3.50586099e-01,  1.12648577e+00,  1.03289912e+00,\n",
              "         5.45400699e-01,  2.14779362e+00],\n",
              "       [-7.60251045e-01,  7.60251045e-01, -2.05971460e-01,\n",
              "        -1.05993245e+00,  1.15079291e+00, -1.42040271e+00,\n",
              "         4.25571511e+00, -6.22171017e-01,  7.50757194e-01,\n",
              "        -7.50757194e-01, -1.08499548e+00,  1.08499548e+00,\n",
              "        -4.68849736e-01, -1.39412012e+00, -1.91572541e+00,\n",
              "        -3.17237509e-01,  1.08096275e-01],\n",
              "       [-7.60251045e-01,  7.60251045e-01, -2.05971460e-01,\n",
              "         9.43456353e-01, -8.68966076e-01,  7.04025691e-01,\n",
              "        -2.34978135e-01, -6.22171017e-01,  7.50757194e-01,\n",
              "        -7.50757194e-01, -1.08499548e+00,  1.08499548e+00,\n",
              "        -1.37857002e+00, -8.40748900e-01, -2.07655948e+00,\n",
              "        -4.24694172e-01,  1.11556321e-01],\n",
              "       [ 1.31535498e+00, -1.31535498e+00, -2.05971460e-01,\n",
              "         9.43456353e-01, -8.68966076e-01,  7.04025691e-01,\n",
              "        -2.34978135e-01, -6.22171017e-01, -1.33198857e+00,\n",
              "         1.33198857e+00,  9.21662826e-01, -9.21662826e-01,\n",
              "        -1.95933651e-01,  8.19364748e-01,  3.62757183e-01,\n",
              "        -5.15807599e-02,  4.35070659e-01],\n",
              "       [-7.60251045e-01,  7.60251045e-01, -2.05971460e-01,\n",
              "        -1.05993245e+00,  1.15079291e+00, -1.42040271e+00,\n",
              "        -2.34978135e-01,  1.60727513e+00, -1.33198857e+00,\n",
              "         1.33198857e+00,  9.21662826e-01, -9.21662826e-01,\n",
              "         5.53675864e-01, -1.40979897e+00, -2.71197092e-01,\n",
              "        -6.48562219e-01,  7.06684301e-01],\n",
              "       [-7.60251045e-01,  7.60251045e-01, -2.05971460e-01,\n",
              "         9.43456353e-01, -8.68966076e-01,  7.04025691e-01,\n",
              "        -2.34978135e-01, -6.22171017e-01,  7.50757194e-01,\n",
              "        -7.50757194e-01, -1.08499548e+00,  1.08499548e+00,\n",
              "        -1.39895939e-02, -2.87377684e-01,  7.64842347e-01,\n",
              "        -1.24554368e+00, -3.00189200e-01],\n",
              "       [-7.60251045e-01,  7.60251045e-01, -2.05971460e-01,\n",
              "        -1.05993245e+00,  1.15079291e+00, -1.42040271e+00,\n",
              "        -2.34978135e-01,  1.60727513e+00, -1.33198857e+00,\n",
              "         1.33198857e+00, -1.08499548e+00,  1.08499548e+00,\n",
              "         8.04758663e-01,  1.28050743e+00,  1.56901268e+00,\n",
              "         1.81398630e+00,  1.44194416e+00],\n",
              "       [-7.60251045e-01,  7.60251045e-01, -2.05971460e-01,\n",
              "        -1.05993245e+00,  1.15079291e+00, -1.42040271e+00,\n",
              "        -2.34978135e-01,  1.60727513e+00, -1.33198857e+00,\n",
              "         1.33198857e+00,  9.21662826e-01, -9.21662826e-01,\n",
              "         2.58926492e-01, -2.87377684e-01,  4.96785571e-01,\n",
              "        -1.32016636e+00, -2.51155112e-02],\n",
              "       [-7.60251045e-01,  7.60251045e-01, -2.05971460e-01,\n",
              "        -1.05993245e+00,  1.15079291e+00, -1.42040271e+00,\n",
              "        -2.34978135e-01,  1.60727513e+00, -1.33198857e+00,\n",
              "         1.33198857e+00,  9.21662826e-01, -9.21662826e-01,\n",
              "         1.35059083e+00, -1.95149148e-01, -3.93279811e-02,\n",
              "        -4.24694172e-01, -8.95186422e-04],\n",
              "       [-7.60251045e-01,  7.60251045e-01, -2.05971460e-01,\n",
              "         9.43456353e-01, -8.68966076e-01,  7.04025691e-01,\n",
              "        -2.34978135e-01, -6.22171017e-01,  7.50757194e-01,\n",
              "        -7.50757194e-01,  9.21662826e-01, -9.21662826e-01,\n",
              "         5.31842577e-01,  1.18827889e+00,  7.64842347e-01,\n",
              "         1.39162192e+00, -1.47947158e-01],\n",
              "       [ 1.31535498e+00, -1.31535498e+00, -2.05971460e-01,\n",
              "        -1.05993245e+00,  1.15079291e+00,  7.04025691e-01,\n",
              "        -2.34978135e-01, -6.22171017e-01,  7.50757194e-01,\n",
              "        -7.50757194e-01, -1.08499548e+00,  1.08499548e+00,\n",
              "         3.39891597e-01,  5.40834570e-01, -9.29393363e-02,\n",
              "        -3.50071489e-01,  1.64089683e+00],\n",
              "       [-7.60251045e-01,  7.60251045e-01, -2.05971460e-01,\n",
              "        -1.05993245e+00,  1.15079291e+00, -1.42040271e+00,\n",
              "        -2.34978135e-01,  1.60727513e+00,  7.50757194e-01,\n",
              "        -7.50757194e-01,  9.21662826e-01, -9.21662826e-01,\n",
              "         1.53253489e+00,  2.28579847e+00, -2.40370563e-01,\n",
              "         9.96121700e-01, -4.71461496e-01],\n",
              "       [-7.60251045e-01,  7.60251045e-01,  4.85504156e+00,\n",
              "        -1.05993245e+00, -8.68966076e-01,  7.04025691e-01,\n",
              "        -2.34978135e-01, -6.22171017e-01,  7.50757194e-01,\n",
              "        -7.50757194e-01,  9.21662826e-01, -9.21662826e-01,\n",
              "        -1.37857002e+00, -1.48634865e+00, -7.09469921e-01,\n",
              "        -9.47052948e-01, -6.27163584e-01],\n",
              "       [-7.60251045e-01,  7.60251045e-01, -2.05971460e-01,\n",
              "         9.43456353e-01, -8.68966076e-01,  7.04025691e-01,\n",
              "        -2.34978135e-01, -6.22171017e-01,  7.50757194e-01,\n",
              "        -7.50757194e-01,  9.21662826e-01, -9.21662826e-01,\n",
              "         7.69824346e-02,  9.11593284e-01,  1.03289912e+00,\n",
              "         5.45400699e-01,  2.49958177e-01],\n",
              "       [ 1.31535498e+00, -1.31535498e+00,  4.85504156e+00,\n",
              "        -1.05993245e+00, -8.68966076e-01,  7.04025691e-01,\n",
              "        -2.34978135e-01, -6.22171017e-01,  7.50757194e-01,\n",
              "        -7.50757194e-01,  9.21662826e-01, -9.21662826e-01,\n",
              "        -5.94756082e-02,  3.95113483e-01,  7.55460360e-01,\n",
              "        -8.72430266e-01,  3.67599755e-01],\n",
              "       [-7.60251045e-01,  7.60251045e-01, -2.05971460e-01,\n",
              "        -1.05993245e+00,  1.15079291e+00,  7.04025691e-01,\n",
              "        -2.34978135e-01, -6.22171017e-01,  7.50757194e-01,\n",
              "        -7.50757194e-01, -1.08499548e+00,  1.08499548e+00,\n",
              "        -4.68849736e-01, -2.87377684e-01, -3.93279811e-02,\n",
              "         9.18514110e-01, -1.21191142e+00],\n",
              "       [-7.60251045e-01,  7.60251045e-01, -2.05971460e-01,\n",
              "        -1.05993245e+00,  1.15079291e+00, -1.42040271e+00,\n",
              "        -2.34978135e-01,  1.60727513e+00, -1.33198857e+00,\n",
              "         1.33198857e+00, -1.08499548e+00,  1.08499548e+00,\n",
              "         1.20503559e+00,  6.71799091e-01,  1.53148473e+00,\n",
              "         6.34947918e-01,  2.44189757e+00],\n",
              "       [-7.60251045e-01,  7.60251045e-01, -2.05971460e-01,\n",
              "        -1.05993245e+00,  1.15079291e+00, -1.42040271e+00,\n",
              "        -2.34978135e-01,  1.60727513e+00,  7.50757194e-01,\n",
              "        -7.50757194e-01,  9.21662826e-01, -9.21662826e-01,\n",
              "         1.35059083e+00, -4.71834756e-01, -5.75441533e-01,\n",
              "         1.21700484e+00,  5.71742492e-01],\n",
              "       [-7.60251045e-01,  7.60251045e-01, -2.05971460e-01,\n",
              "        -1.05993245e+00,  1.15079291e+00, -1.42040271e+00,\n",
              "        -2.34978135e-01,  1.60727513e+00, -1.33198857e+00,\n",
              "         1.33198857e+00, -1.08499548e+00,  1.08499548e+00,\n",
              "         1.80545098e+00,  7.27136212e-01, -1.73356369e-01,\n",
              "         1.72287287e-01,  1.75507836e+00],\n",
              "       [ 1.31535498e+00, -1.31535498e+00, -2.05971460e-01,\n",
              "         9.43456353e-01, -8.68966076e-01,  7.04025691e-01,\n",
              "        -2.34978135e-01, -6.22171017e-01, -1.33198857e+00,\n",
              "         1.33198857e+00,  9.21662826e-01, -9.21662826e-01,\n",
              "         8.95730691e-01, -4.71834756e-01,  2.28728795e-01,\n",
              "        -1.13360965e+00, -1.44487112e-01],\n",
              "       [-7.60251045e-01,  7.60251045e-01, -2.05971460e-01,\n",
              "         9.43456353e-01, -8.68966076e-01,  7.04025691e-01,\n",
              "        -2.34978135e-01, -6.22171017e-01,  7.50757194e-01,\n",
              "        -7.50757194e-01,  9.21662826e-01, -9.21662826e-01,\n",
              "         1.25234104e+00,  1.14216462e+00,  9.47004070e-02,\n",
              "        -2.97089385e-01, -1.99847854e-01],\n",
              "       [-7.60251045e-01,  7.60251045e-01, -2.05971460e-01,\n",
              "        -1.05993245e+00,  1.15079291e+00,  7.04025691e-01,\n",
              "        -2.34978135e-01, -6.22171017e-01,  7.50757194e-01,\n",
              "        -7.50757194e-01, -1.08499548e+00,  1.08499548e+00,\n",
              "        -6.14404982e-01,  4.46450460e-02, -1.73356369e-01,\n",
              "        -1.26203442e-01, -1.63230706e+00],\n",
              "       [ 1.31535498e+00, -1.31535498e+00, -2.05971460e-01,\n",
              "        -1.05993245e+00,  1.15079291e+00,  7.04025691e-01,\n",
              "        -2.34978135e-01, -6.22171017e-01,  7.50757194e-01,\n",
              "        -7.50757194e-01, -1.08499548e+00,  1.08499548e+00,\n",
              "         4.40870549e-01, -5.64063292e-01,  3.62757183e-01,\n",
              "        -1.28285502e+00, -6.47923862e-01],\n",
              "       [-7.60251045e-01,  7.60251045e-01,  4.85504156e+00,\n",
              "        -1.05993245e+00, -8.68966076e-01,  7.04025691e-01,\n",
              "        -2.34978135e-01, -6.22171017e-01,  7.50757194e-01,\n",
              "        -7.50757194e-01,  9.21662826e-01, -9.21662826e-01,\n",
              "        -1.95933651e-01,  1.73764996e-01, -3.07384757e-01,\n",
              "         1.72287287e-01, -7.51725254e-01],\n",
              "       [-7.60251045e-01,  7.60251045e-01, -2.05971460e-01,\n",
              "        -1.05993245e+00,  1.15079291e+00, -1.42040271e+00,\n",
              "        -2.34978135e-01,  1.60727513e+00, -1.33198857e+00,\n",
              "         1.33198857e+00, -1.08499548e+00,  1.08499548e+00,\n",
              "         5.31842577e-01,  1.09605036e+00,  8.98870735e-01,\n",
              "         9.18514110e-01,  6.37483373e-01],\n",
              "       [ 1.31535498e+00, -1.31535498e+00, -2.05971460e-01,\n",
              "         9.43456353e-01, -8.68966076e-01,  7.04025691e-01,\n",
              "        -2.34978135e-01, -6.22171017e-01,  7.50757194e-01,\n",
              "        -7.50757194e-01,  9.21662826e-01, -9.21662826e-01,\n",
              "        -1.10565394e+00,  8.15364604e-02, -3.07384757e-01,\n",
              "        -9.47052948e-01,  8.88336737e-01],\n",
              "       [-7.60251045e-01,  7.60251045e-01, -2.05971460e-01,\n",
              "         9.43456353e-01, -8.68966076e-01,  7.04025691e-01,\n",
              "        -2.34978135e-01, -6.22171017e-01,  7.50757194e-01,\n",
              "        -7.50757194e-01,  9.21662826e-01, -9.21662826e-01,\n",
              "        -4.68849736e-01,  8.15364604e-02, -1.11155509e+00,\n",
              "         3.21532652e-01, -1.87797036e+00],\n",
              "       [ 1.31535498e+00, -1.31535498e+00, -2.05971460e-01,\n",
              "         9.43456353e-01, -8.68966076e-01,  7.04025691e-01,\n",
              "        -2.34978135e-01, -6.22171017e-01,  7.50757194e-01,\n",
              "        -7.50757194e-01, -1.08499548e+00,  1.08499548e+00,\n",
              "        -1.04961622e-01, -3.79606220e-01,  8.98870735e-01,\n",
              "        -1.09629831e+00,  3.83169963e-01],\n",
              "       [-7.60251045e-01,  7.60251045e-01, -2.05971460e-01,\n",
              "        -1.05993245e+00,  1.15079291e+00,  7.04025691e-01,\n",
              "        -2.34978135e-01, -6.22171017e-01, -1.33198857e+00,\n",
              "         1.33198857e+00,  9.21662826e-01, -9.21662826e-01,\n",
              "         6.22814606e-01,  3.58222068e-01,  7.64842347e-01,\n",
              "        -9.47052948e-01, -8.48606553e-01],\n",
              "       [-7.60251045e-01,  7.60251045e-01, -2.05971460e-01,\n",
              "         9.43456353e-01, -8.68966076e-01,  7.04025691e-01,\n",
              "        -2.34978135e-01, -6.22171017e-01, -1.33198857e+00,\n",
              "         1.33198857e+00, -1.08499548e+00,  1.08499548e+00,\n",
              "        -1.41768799e+00,  7.88007046e-01, -8.56901148e-01,\n",
              "        -1.23435027e+00,  6.65163745e-01],\n",
              "       [-7.60251045e-01,  7.60251045e-01, -2.05971460e-01,\n",
              "         9.43456353e-01, -8.68966076e-01,  7.04025691e-01,\n",
              "        -2.34978135e-01, -6.22171017e-01,  7.50757194e-01,\n",
              "        -7.50757194e-01,  9.21662826e-01, -9.21662826e-01,\n",
              "        -1.37857002e+00, -1.02520597e+00, -1.33940335e+00,\n",
              "        -1.02167563e+00,  4.48910845e-01],\n",
              "       [ 1.31535498e+00, -1.31535498e+00, -2.05971460e-01,\n",
              "        -1.05993245e+00,  1.15079291e+00,  7.04025691e-01,\n",
              "        -2.34978135e-01, -6.22171017e-01,  7.50757194e-01,\n",
              "        -7.50757194e-01, -1.08499548e+00,  1.08499548e+00,\n",
              "         5.31842577e-01, -7.48520364e-01, -3.93279811e-02,\n",
              "        -1.41717585e+00, -9.14347435e-01],\n",
              "       [ 1.31535498e+00, -1.31535498e+00, -2.05971460e-01,\n",
              "         9.43456353e-01, -8.68966076e-01,  7.04025691e-01,\n",
              "        -2.34978135e-01, -6.22171017e-01,  7.50757194e-01,\n",
              "        -7.50757194e-01,  9.21662826e-01, -9.21662826e-01,\n",
              "         6.19175724e-01,  1.18827889e+00,  9.47004070e-02,\n",
              "        -4.03873575e-02,  1.61726994e-01]])"
            ]
          },
          "metadata": {
            "tags": []
          },
          "execution_count": 32
        }
      ]
    },
    {
      "cell_type": "markdown",
      "metadata": {
        "id": "6__xfWrsBV6V",
        "colab_type": "text"
      },
      "source": [
        "##**Train on different algorithms**"
      ]
    },
    {
      "cell_type": "code",
      "metadata": {
        "id": "Gw7CG1jcm2e8",
        "colab_type": "code",
        "colab": {}
      },
      "source": [
        "from sklearn.linear_model import LogisticRegression\n",
        "from sklearn.neighbors import KNeighborsClassifier\n",
        "from sklearn.tree import DecisionTreeClassifier\n",
        "from sklearn.ensemble import RandomForestClassifier\n",
        "from sklearn.svm import SVC"
      ],
      "execution_count": 33,
      "outputs": []
    },
    {
      "cell_type": "code",
      "metadata": {
        "id": "mJ8mr2FHnZs4",
        "colab_type": "code",
        "colab": {}
      },
      "source": [
        "l_cla = LogisticRegression()\n",
        "k_cla = KNeighborsClassifier()\n",
        "d_cla = DecisionTreeClassifier()\n",
        "r_cla = RandomForestClassifier()\n",
        "s_cla = SVC(kernel='linear')\n",
        "ks_cla = SVC(kernel= 'rbf')"
      ],
      "execution_count": 34,
      "outputs": []
    },
    {
      "cell_type": "code",
      "metadata": {
        "id": "U6LyQ44yngTB",
        "colab_type": "code",
        "colab": {
          "base_uri": "https://localhost:8080/",
          "height": 87
        },
        "outputId": "ba76ebcf-949e-4eb6-939d-629e3da7f23f"
      },
      "source": [
        "l_cla.fit(X_train, Y_train)\n",
        "k_cla.fit(X_train, Y_train)\n",
        "d_cla.fit(X_train, Y_train)\n",
        "r_cla.fit(X_train, Y_train)\n",
        "s_cla.fit(X_train, Y_train)\n",
        "ks_cla.fit(X_train, Y_train)"
      ],
      "execution_count": 35,
      "outputs": [
        {
          "output_type": "execute_result",
          "data": {
            "text/plain": [
              "SVC(C=1.0, break_ties=False, cache_size=200, class_weight=None, coef0=0.0,\n",
              "    decision_function_shape='ovr', degree=3, gamma='scale', kernel='rbf',\n",
              "    max_iter=-1, probability=False, random_state=None, shrinking=True,\n",
              "    tol=0.001, verbose=False)"
            ]
          },
          "metadata": {
            "tags": []
          },
          "execution_count": 35
        }
      ]
    },
    {
      "cell_type": "code",
      "metadata": {
        "id": "FKhT9aNKnq3u",
        "colab_type": "code",
        "colab": {}
      },
      "source": [
        "l_pred = l_cla.predict(X_test)\n",
        "k_pred = k_cla.predict(X_test)\n",
        "d_pred = d_cla.predict(X_test)\n",
        "r_pred = r_cla.predict(X_test)\n",
        "s_pred = s_cla.predict(X_test)\n",
        "ks_pred = ks_cla.predict(X_test)"
      ],
      "execution_count": 36,
      "outputs": []
    },
    {
      "cell_type": "markdown",
      "metadata": {
        "id": "Lw9Ocj-vBmoX",
        "colab_type": "text"
      },
      "source": [
        "###making confusion matrix"
      ]
    },
    {
      "cell_type": "code",
      "metadata": {
        "id": "JLsfnzi9nvzy",
        "colab_type": "code",
        "colab": {}
      },
      "source": [
        " from sklearn.metrics import confusion_matrix"
      ],
      "execution_count": 37,
      "outputs": []
    },
    {
      "cell_type": "code",
      "metadata": {
        "id": "Gbos3VPonziI",
        "colab_type": "code",
        "colab": {}
      },
      "source": [
        "l_c = confusion_matrix(Y_test, l_pred)\n",
        "k_c = confusion_matrix(Y_test, k_pred)\n",
        "d_c = confusion_matrix(Y_test, d_pred)\n",
        "r_c = confusion_matrix(Y_test, r_pred)\n",
        "s_c = confusion_matrix(Y_test, s_pred)\n",
        "ks_c = confusion_matrix(Y_test, ks_pred)"
      ],
      "execution_count": 38,
      "outputs": []
    },
    {
      "cell_type": "code",
      "metadata": {
        "id": "La7yynEO6lv8",
        "colab_type": "code",
        "colab": {
          "base_uri": "https://localhost:8080/",
          "height": 52
        },
        "outputId": "5092460a-025c-47b9-c315-9dcad94a2c26"
      },
      "source": [
        " l_c"
      ],
      "execution_count": 39,
      "outputs": [
        {
          "output_type": "execute_result",
          "data": {
            "text/plain": [
              "array([[ 8,  5],\n",
              "       [ 0, 30]])"
            ]
          },
          "metadata": {
            "tags": []
          },
          "execution_count": 39
        }
      ]
    },
    {
      "cell_type": "code",
      "metadata": {
        "id": "7neNGZwE6nxw",
        "colab_type": "code",
        "colab": {
          "base_uri": "https://localhost:8080/",
          "height": 52
        },
        "outputId": "2f683894-c027-4395-8568-c580451de248"
      },
      "source": [
        " k_c"
      ],
      "execution_count": 40,
      "outputs": [
        {
          "output_type": "execute_result",
          "data": {
            "text/plain": [
              "array([[ 5,  8],\n",
              "       [ 3, 27]])"
            ]
          },
          "metadata": {
            "tags": []
          },
          "execution_count": 40
        }
      ]
    },
    {
      "cell_type": "code",
      "metadata": {
        "id": "UfUWS9je6qs7",
        "colab_type": "code",
        "colab": {
          "base_uri": "https://localhost:8080/",
          "height": 52
        },
        "outputId": "0e0eccf9-a3dc-4f4c-8c20-0549425a675a"
      },
      "source": [
        "d_c"
      ],
      "execution_count": 41,
      "outputs": [
        {
          "output_type": "execute_result",
          "data": {
            "text/plain": [
              "array([[ 8,  5],\n",
              "       [ 2, 28]])"
            ]
          },
          "metadata": {
            "tags": []
          },
          "execution_count": 41
        }
      ]
    },
    {
      "cell_type": "code",
      "metadata": {
        "id": "2Y_3aG3p6q9v",
        "colab_type": "code",
        "colab": {
          "base_uri": "https://localhost:8080/",
          "height": 52
        },
        "outputId": "b5ea3bf0-b04e-42c7-e590-986cbf0e17b5"
      },
      "source": [
        "r_c"
      ],
      "execution_count": 42,
      "outputs": [
        {
          "output_type": "execute_result",
          "data": {
            "text/plain": [
              "array([[ 9,  4],\n",
              "       [ 0, 30]])"
            ]
          },
          "metadata": {
            "tags": []
          },
          "execution_count": 42
        }
      ]
    },
    {
      "cell_type": "code",
      "metadata": {
        "id": "eQO_aovY6rPL",
        "colab_type": "code",
        "colab": {
          "base_uri": "https://localhost:8080/",
          "height": 52
        },
        "outputId": "946724ee-3aca-42fd-fcf0-f53d35dfb462"
      },
      "source": [
        "s_c"
      ],
      "execution_count": 43,
      "outputs": [
        {
          "output_type": "execute_result",
          "data": {
            "text/plain": [
              "array([[10,  3],\n",
              "       [ 0, 30]])"
            ]
          },
          "metadata": {
            "tags": []
          },
          "execution_count": 43
        }
      ]
    },
    {
      "cell_type": "code",
      "metadata": {
        "id": "yfvVsjuX61x0",
        "colab_type": "code",
        "colab": {
          "base_uri": "https://localhost:8080/",
          "height": 52
        },
        "outputId": "b1aabb88-3ef1-46a0-df36-ca34d09454aa"
      },
      "source": [
        "ks_c"
      ],
      "execution_count": 44,
      "outputs": [
        {
          "output_type": "execute_result",
          "data": {
            "text/plain": [
              "array([[ 7,  6],\n",
              "       [ 0, 30]])"
            ]
          },
          "metadata": {
            "tags": []
          },
          "execution_count": 44
        }
      ]
    },
    {
      "cell_type": "markdown",
      "metadata": {
        "id": "PvyqqlN7BwLp",
        "colab_type": "text"
      },
      "source": [
        "##**Results**"
      ]
    },
    {
      "cell_type": "code",
      "metadata": {
        "id": "jU_lsIhun_So",
        "colab_type": "code",
        "colab": {}
      },
      "source": [
        " from sklearn.metrics import accuracy_score"
      ],
      "execution_count": 45,
      "outputs": []
    },
    {
      "cell_type": "code",
      "metadata": {
        "id": "QfXoiOeCoAu0",
        "colab_type": "code",
        "colab": {}
      },
      "source": [
        "l_a = accuracy_score(Y_test, l_pred)\n",
        "k_a = accuracy_score(Y_test, k_pred)\n",
        "d_a = accuracy_score(Y_test, d_pred)\n",
        "r_a = accuracy_score(Y_test, r_pred)\n",
        "s_a = accuracy_score(Y_test, s_pred)\n",
        "ks_a = accuracy_score(Y_test, ks_pred)"
      ],
      "execution_count": 46,
      "outputs": []
    },
    {
      "cell_type": "code",
      "metadata": {
        "id": "Rt28jXZloLR2",
        "colab_type": "code",
        "colab": {
          "base_uri": "https://localhost:8080/",
          "height": 122
        },
        "outputId": "e2222820-e977-46a6-8ffb-8e5497f32e33"
      },
      "source": [
        " print('Logistic Regression: ' + str(l_a) + '\\nKNN: ' + str(k_a) + '\\nDecision Tree: ' + str(d_a) + '\\nRandom Forest: ' + str(r_a) + '\\nLinear SVC: ' + str(s_a) + '\\nKernel SVC: ' + str(l_a))"
      ],
      "execution_count": 47,
      "outputs": [
        {
          "output_type": "stream",
          "text": [
            "Logistic Regression: 0.8837209302325582\n",
            "KNN: 0.7441860465116279\n",
            "Decision Tree: 0.8372093023255814\n",
            "Random Forest: 0.9069767441860465\n",
            "Linear SVC: 0.9302325581395349\n",
            "Kernel SVC: 0.8837209302325582\n"
          ],
          "name": "stdout"
        }
      ]
    },
    {
      "cell_type": "markdown",
      "metadata": {
        "id": "QfBmiJlaB2-3",
        "colab_type": "text"
      },
      "source": [
        "##**Conclusion**"
      ]
    },
    {
      "cell_type": "markdown",
      "metadata": {
        "id": "LqbKbJBVGTKt",
        "colab_type": "text"
      },
      "source": [
        "Linear SVC is giving higher accuracy as compared to all other algorithm, hence we can say that Linear SVC is giving best result for this dataset"
      ]
    }
  ]
}